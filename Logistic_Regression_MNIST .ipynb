{
 "cells": [
  {
   "cell_type": "markdown",
   "metadata": {},
   "source": [
    " <b>Ashish Kumar, VM52815, akumar5@umbc.edu</b>"
   ]
  },
  {
   "cell_type": "markdown",
   "metadata": {},
   "source": [
    "## Importing numpy for loading data, performing mathematical calulation and matplotlib for plotting the data of image. "
   ]
  },
  {
   "cell_type": "code",
   "execution_count": 1,
   "metadata": {},
   "outputs": [],
   "source": [
    "import pandas as pd\n",
    "import numpy as np\n",
    "import matplotlib.pyplot as plt"
   ]
  },
  {
   "cell_type": "markdown",
   "metadata": {},
   "source": [
    "## Loading the mnist labels data using numpy"
   ]
  },
  {
   "cell_type": "code",
   "execution_count": 2,
   "metadata": {},
   "outputs": [],
   "source": [
    "df_labels= np.loadtxt('mnist_labels.txt')"
   ]
  },
  {
   "cell_type": "markdown",
   "metadata": {},
   "source": [
    "## Displaying the length of the labels file "
   ]
  },
  {
   "cell_type": "code",
   "execution_count": 3,
   "metadata": {},
   "outputs": [
    {
     "data": {
      "text/plain": [
       "10000"
      ]
     },
     "execution_count": 3,
     "metadata": {},
     "output_type": "execute_result"
    }
   ],
   "source": [
    "len(df_labels)"
   ]
  },
  {
   "cell_type": "markdown",
   "metadata": {},
   "source": [
    "## Displaying the shape of the labels file "
   ]
  },
  {
   "cell_type": "code",
   "execution_count": 4,
   "metadata": {},
   "outputs": [
    {
     "data": {
      "text/plain": [
       "(10000,)"
      ]
     },
     "execution_count": 4,
     "metadata": {},
     "output_type": "execute_result"
    }
   ],
   "source": [
    "df_labels.shape"
   ]
  },
  {
   "cell_type": "markdown",
   "metadata": {},
   "source": [
    "## Loading the mnist data file using numpy"
   ]
  },
  {
   "cell_type": "code",
   "execution_count": 5,
   "metadata": {},
   "outputs": [],
   "source": [
    "df_data = np.loadtxt('mnist_data.txt')\n",
    "df_data = df_data/255.0"
   ]
  },
  {
   "cell_type": "markdown",
   "metadata": {},
   "source": [
    "## Displaying the length of the  mnist data file  "
   ]
  },
  {
   "cell_type": "code",
   "execution_count": 6,
   "metadata": {},
   "outputs": [
    {
     "data": {
      "text/plain": [
       "10000"
      ]
     },
     "execution_count": 6,
     "metadata": {},
     "output_type": "execute_result"
    }
   ],
   "source": [
    "len(df_data)"
   ]
  },
  {
   "cell_type": "markdown",
   "metadata": {},
   "source": [
    "## Displaying the shape of the data file "
   ]
  },
  {
   "cell_type": "code",
   "execution_count": 7,
   "metadata": {
    "scrolled": true
   },
   "outputs": [
    {
     "data": {
      "text/plain": [
       "(10000, 784)"
      ]
     },
     "execution_count": 7,
     "metadata": {},
     "output_type": "execute_result"
    }
   ],
   "source": [
    "df_data.shape"
   ]
  },
  {
   "cell_type": "code",
   "execution_count": 8,
   "metadata": {
    "scrolled": true
   },
   "outputs": [
    {
     "data": {
      "text/plain": [
       "array([7., 2., 1., ..., 4., 5., 6.])"
      ]
     },
     "execution_count": 8,
     "metadata": {},
     "output_type": "execute_result"
    }
   ],
   "source": [
    "df_labels"
   ]
  },
  {
   "cell_type": "markdown",
   "metadata": {},
   "source": [
    "## Converting all the all the 8 into 1 and rest to 0 in label file."
   ]
  },
  {
   "cell_type": "code",
   "execution_count": 9,
   "metadata": {
    "scrolled": true
   },
   "outputs": [],
   "source": [
    "for i in range(len(df_labels)):\n",
    "    if df_labels[i] == 8:\n",
    "        df_labels[i] = 1\n",
    "    else:\n",
    "        df_labels[i] = 0"
   ]
  },
  {
   "cell_type": "markdown",
   "metadata": {},
   "source": [
    "## Counting the number of 8 in the label "
   ]
  },
  {
   "cell_type": "code",
   "execution_count": 10,
   "metadata": {
    "scrolled": true
   },
   "outputs": [
    {
     "data": {
      "text/plain": [
       "974"
      ]
     },
     "execution_count": 10,
     "metadata": {},
     "output_type": "execute_result"
    }
   ],
   "source": [
    "np.count_nonzero(df_labels == 1)"
   ]
  },
  {
   "cell_type": "markdown",
   "metadata": {},
   "source": [
    "## Displaying the index of all the 8 in the label dataset"
   ]
  },
  {
   "cell_type": "code",
   "execution_count": 11,
   "metadata": {
    "scrolled": true
   },
   "outputs": [
    {
     "data": {
      "text/plain": [
       "(array([  61,   84,  110,  128,  134,  146,  177,  179,  181,  184,  226,\n",
       "         232,  233,  242,  257,  260,  266,  268,  277,  290,  299,  338,\n",
       "         344,  355,  373,  374,  391,  401,  403,  429,  431,  435,  436,\n",
       "         458,  465,  466,  470,  474,  486,  495,  520,  527,  538,  542,\n",
       "         543,  553,  563,  572,  580,  582,  591,  596,  601,  603,  606,\n",
       "         621,  631,  641,  655,  664,  685,  691,  693,  709,  714,  718,\n",
       "         761,  781,  787,  793,  800,  805,  806,  839,  844,  864,  872,\n",
       "         876,  877,  878,  879,  899,  914,  915,  936,  947,  961,  983,\n",
       "         998, 1007, 1018, 1026, 1029, 1033, 1052, 1068, 1074, 1093, 1101,\n",
       "        1118, 1120, 1124, 1125, 1149, 1170, 1185, 1198, 1200, 1202, 1219,\n",
       "        1225, 1229, 1234, 1248, 1249, 1259, 1267, 1268, 1286, 1287, 1312,\n",
       "        1319, 1320, 1324, 1325, 1353, 1364, 1371, 1389, 1394, 1398, 1415,\n",
       "        1425, 1433, 1441, 1443, 1464, 1470, 1474, 1499, 1502, 1523, 1524,\n",
       "        1530, 1541, 1556, 1560, 1562, 1567, 1568, 1572, 1573, 1583, 1584,\n",
       "        1613, 1651, 1663, 1664, 1669, 1675, 1686, 1687, 1694, 1702, 1717,\n",
       "        1719, 1740, 1756, 1758, 1759, 1774, 1782, 1813, 1823, 1827, 1850,\n",
       "        1855, 1859, 1877, 1878, 1882, 1893, 1899, 1912, 1914, 1942, 1946,\n",
       "        1955, 1960, 1961, 1968, 1973, 2004, 2038, 2050, 2052, 2056, 2065,\n",
       "        2093, 2099, 2102, 2107, 2111, 2119, 2121, 2142, 2146, 2149, 2152,\n",
       "        2163, 2168, 2172, 2177, 2179, 2203, 2208, 2211, 2213, 2219, 2225,\n",
       "        2233, 2246, 2271, 2272, 2289, 2297, 2298, 2309, 2349, 2362, 2381,\n",
       "        2382, 2389, 2393, 2395, 2419, 2423, 2425, 2430, 2451, 2467, 2470,\n",
       "        2512, 2520, 2543, 2550, 2552, 2561, 2579, 2584, 2598, 2600, 2608,\n",
       "        2614, 2617, 2636, 2640, 2650, 2667, 2691, 2724, 2739, 2744, 2758,\n",
       "        2774, 2783, 2793, 2800, 2809, 2834, 2849, 2852, 2856, 2859, 2862,\n",
       "        2869, 2895, 2896, 2897, 2905, 2911, 2935, 2949, 2960, 2975, 2990,\n",
       "        3002, 3012, 3023, 3046, 3062, 3064, 3065, 3068, 3072, 3091, 3112,\n",
       "        3139, 3153, 3158, 3163, 3186, 3197, 3198, 3204, 3205, 3206, 3216,\n",
       "        3224, 3245, 3246, 3263, 3279, 3284, 3289, 3313, 3319, 3323, 3324,\n",
       "        3340, 3343, 3348, 3364, 3374, 3389, 3406, 3440, 3466, 3473, 3492,\n",
       "        3499, 3502, 3509, 3516, 3519, 3521, 3555, 3559, 3563, 3567, 3576,\n",
       "        3583, 3588, 3626, 3627, 3629, 3633, 3635, 3644, 3662, 3674, 3704,\n",
       "        3705, 3707, 3708, 3727, 3732, 3737, 3757, 3771, 3781, 3782, 3794,\n",
       "        3807, 3813, 3816, 3829, 3833, 3845, 3868, 3871, 3873, 3880, 3882,\n",
       "        3887, 3892, 3905, 3934, 3949, 3951, 3954, 3964, 3987, 3988, 4011,\n",
       "        4020, 4041, 4058, 4068, 4075, 4086, 4092, 4096, 4112, 4116, 4117,\n",
       "        4121, 4123, 4124, 4126, 4136, 4137, 4140, 4141, 4145, 4159, 4165,\n",
       "        4207, 4218, 4230, 4231, 4246, 4251, 4253, 4290, 4305, 4362, 4371,\n",
       "        4372, 4375, 4376, 4380, 4389, 4390, 4398, 4399, 4411, 4419, 4429,\n",
       "        4434, 4452, 4455, 4478, 4486, 4496, 4497, 4508, 4513, 4518, 4523,\n",
       "        4543, 4545, 4572, 4601, 4608, 4626, 4629, 4634, 4639, 4640, 4667,\n",
       "        4671, 4707, 4724, 4726, 4731, 4737, 4743, 4744, 4748, 4750, 4753,\n",
       "        4756, 4777, 4789, 4792, 4797, 4807, 4817, 4820, 4822, 4825, 4829,\n",
       "        4839, 4845, 4849, 4850, 4852, 4863, 4879, 4890, 4895, 4922, 4948,\n",
       "        4956, 4960, 4978, 4982, 4986, 5003, 5011, 5016, 5041, 5049, 5059,\n",
       "        5061, 5065, 5075, 5103, 5118, 5129, 5138, 5142, 5163, 5173, 5176,\n",
       "        5183, 5184, 5188, 5198, 5204, 5209, 5226, 5231, 5236, 5278, 5288,\n",
       "        5298, 5300, 5306, 5343, 5349, 5360, 5376, 5379, 5380, 5387, 5394,\n",
       "        5403, 5413, 5423, 5433, 5434, 5438, 5462, 5478, 5489, 5493, 5495,\n",
       "        5522, 5530, 5543, 5547, 5548, 5569, 5578, 5586, 5589, 5601, 5611,\n",
       "        5621, 5644, 5647, 5648, 5650, 5656, 5675, 5678, 5680, 5701, 5710,\n",
       "        5729, 5744, 5749, 5765, 5771, 5775, 5777, 5797, 5803, 5836, 5846,\n",
       "        5855, 5857, 5864, 5875, 5876, 5881, 5905, 5911, 5940, 5950, 5960,\n",
       "        5962, 5967, 5976, 5995, 6001, 6004, 6018, 6024, 6049, 6056, 6070,\n",
       "        6080, 6090, 6137, 6145, 6150, 6153, 6154, 6161, 6178, 6189, 6199,\n",
       "        6209, 6212, 6219, 6238, 6245, 6248, 6262, 6275, 6296, 6297, 6304,\n",
       "        6317, 6327, 6336, 6343, 6347, 6348, 6358, 6359, 6372, 6395, 6403,\n",
       "        6404, 6410, 6435, 6442, 6450, 6457, 6464, 6467, 6477, 6485, 6492,\n",
       "        6493, 6495, 6514, 6523, 6555, 6578, 6587, 6595, 6603, 6612, 6617,\n",
       "        6625, 6629, 6631, 6641, 6649, 6654, 6657, 6659, 6686, 6709, 6725,\n",
       "        6735, 6755, 6765, 6776, 6806, 6816, 6826, 6834, 6838, 6839, 6850,\n",
       "        6851, 6864, 6889, 6897, 6898, 6904, 6935, 6945, 6955, 6958, 6972,\n",
       "        7004, 7011, 7016, 7027, 7034, 7035, 7046, 7060, 7070, 7080, 7094,\n",
       "        7099, 7109, 7114, 7121, 7126, 7127, 7143, 7146, 7164, 7181, 7198,\n",
       "        7200, 7208, 7220, 7234, 7244, 7259, 7265, 7277, 7287, 7297, 7302,\n",
       "        7309, 7313, 7339, 7369, 7370, 7371, 7378, 7379, 7383, 7417, 7428,\n",
       "        7433, 7444, 7450, 7455, 7481, 7500, 7502, 7514, 7524, 7534, 7545,\n",
       "        7552, 7553, 7569, 7586, 7597, 7603, 7615, 7623, 7633, 7642, 7660,\n",
       "        7663, 7666, 7689, 7691, 7694, 7713, 7718, 7720, 7735, 7745, 7755,\n",
       "        7765, 7767, 7770, 7774, 7776, 7788, 7803, 7805, 7814, 7823, 7845,\n",
       "        7853, 7862, 7871, 7872, 7878, 7901, 7919, 7921, 7923, 7926, 7941,\n",
       "        7951, 7961, 7963, 7971, 7979, 7999, 8009, 8012, 8015, 8027, 8037,\n",
       "        8046, 8065, 8075, 8097, 8105, 8125, 8135, 8145, 8147, 8157, 8183,\n",
       "        8209, 8216, 8217, 8223, 8236, 8241, 8242, 8249, 8258, 8266, 8279,\n",
       "        8294, 8297, 8300, 8301, 8330, 8339, 8357, 8384, 8405, 8408, 8410,\n",
       "        8413, 8437, 8440, 8456, 8466, 8476, 8486, 8505, 8522, 8524, 8530,\n",
       "        8547, 8556, 8566, 8574, 8585, 8609, 8618, 8627, 8635, 8649, 8661,\n",
       "        8667, 8669, 8679, 8689, 8699, 8722, 8725, 8726, 8728, 8735, 8756,\n",
       "        8759, 8778, 8787, 8806, 8816, 8826, 8843, 8857, 8866, 8872, 8877,\n",
       "        8894, 8912, 8919, 8927, 8932, 8934, 8942, 8958, 8963, 8965, 8985,\n",
       "        9020, 9042, 9055, 9068, 9078, 9088, 9092, 9107, 9110, 9116, 9126,\n",
       "        9136, 9139, 9150, 9161, 9173, 9187, 9197, 9205, 9213, 9237, 9243,\n",
       "        9263, 9271, 9280, 9286, 9307, 9316, 9321, 9322, 9326, 9330, 9354,\n",
       "        9375, 9385, 9394, 9402, 9410, 9418, 9420, 9433, 9449, 9450, 9452,\n",
       "        9462, 9496, 9506, 9516, 9557, 9563, 9564, 9572, 9574, 9575, 9596,\n",
       "        9609, 9619, 9629, 9630, 9667, 9673, 9681, 9691, 9694, 9695, 9712,\n",
       "        9722, 9732, 9744, 9748, 9755, 9759, 9780, 9807, 9817, 9824, 9827,\n",
       "        9834, 9854, 9857, 9863, 9875, 9887, 9892, 9900, 9910, 9917, 9920,\n",
       "        9926, 9934, 9936, 9959, 9967, 9991]),)"
      ]
     },
     "execution_count": 11,
     "metadata": {},
     "output_type": "execute_result"
    }
   ],
   "source": [
    "labels_8 = np.where(df_labels == 1)\n",
    "labels_8"
   ]
  },
  {
   "cell_type": "markdown",
   "metadata": {},
   "source": [
    "## Plotting few random 8 for the initial dataset without any processing."
   ]
  },
  {
   "cell_type": "code",
   "execution_count": 12,
   "metadata": {},
   "outputs": [
    {
     "data": {
      "text/plain": [
       "<matplotlib.image.AxesImage at 0x7f435fa14438>"
      ]
     },
     "execution_count": 12,
     "metadata": {},
     "output_type": "execute_result"
    },
    {
     "data": {
      "image/png": "[encoded data removed]",
      "text/plain": [
       "<Figure size 432x288 with 1 Axes>"
      ]
     },
     "metadata": {},
     "output_type": "display_data"
    }
   ],
   "source": [
    "plt.imshow(np.reshape(df_data[61], (28,28)), cmap=plt.cm.gray)"
   ]
  },
  {
   "cell_type": "code",
   "execution_count": 13,
   "metadata": {},
   "outputs": [
    {
     "data": {
      "text/plain": [
       "<matplotlib.image.AxesImage at 0x7f435f763630>"
      ]
     },
     "execution_count": 13,
     "metadata": {},
     "output_type": "execute_result"
    },
    {
     "data": {
      "image/png": "[encoded data removed]",
      "text/plain": [
       "<Figure size 432x288 with 1 Axes>"
      ]
     },
     "metadata": {},
     "output_type": "display_data"
    }
   ],
   "source": [
    "plt.imshow(np.reshape(df_data[84], (28,28)), cmap=plt.cm.gray)\n"
   ]
  },
  {
   "cell_type": "code",
   "execution_count": 14,
   "metadata": {},
   "outputs": [
    {
     "data": {
      "text/plain": [
       "<matplotlib.image.AxesImage at 0x7f435f5437f0>"
      ]
     },
     "execution_count": 14,
     "metadata": {},
     "output_type": "execute_result"
    },
    {
     "data": {
      "image/png": "[encoded data removed]",
      "text/plain": [
       "<Figure size 432x288 with 1 Axes>"
      ]
     },
     "metadata": {},
     "output_type": "display_data"
    }
   ],
   "source": [
    "plt.imshow(np.reshape(df_data[110], (28,28)), cmap=plt.cm.gray)"
   ]
  },
  {
   "cell_type": "markdown",
   "metadata": {},
   "source": [
    "## Sigmoid function"
   ]
  },
  {
   "cell_type": "code",
   "execution_count": 15,
   "metadata": {},
   "outputs": [],
   "source": [
    "def sigmoid(scores):\n",
    "    return 1 / (1 + np.exp(-scores))"
   ]
  },
  {
   "cell_type": "markdown",
   "metadata": {},
   "source": [
    "## Calculating the likelihood: arguments are df_data(feature), df_labels(target) and the weights"
   ]
  },
  {
   "cell_type": "code",
   "execution_count": 16,
   "metadata": {},
   "outputs": [],
   "source": [
    "def log_likelihood(features, target, weights):\n",
    "    scores = np.dot(features, weights)\n",
    "    ll = np.sum( target*scores - np.log(1 + np.exp(scores)) )\n",
    "    return ll\n"
   ]
  },
  {
   "cell_type": "markdown",
   "metadata": {},
   "source": [
    "## Stocastic Logistic regression Function with gradient descent \n",
    "<b><ul>\n",
    "<li>Intializing the weighst which has the same shape as the mnist_data dataset. </li>\n",
    "<li>Scores does the dot product of the df_data and weights.</li>\n",
    "<li>prediction calls the sigmoid function and passes score as the argument which converts the value between 0 & 1.</li>\n",
    "<li>Finding the gradient by doing the dot product between Transpose of mnist_data and output_error</li>\n",
    "<li>Upgrading the weights for each iteration and keeping the learning rate as 0.00001</li>\n",
    "<li>Printing the log-likelihood after a fixed iteration just to check the iteration  </li>\n",
    "<li>Function returns the weight at the end. </li>\n",
    "</ul></b>"
   ]
  },
  {
   "cell_type": "code",
   "execution_count": 17,
   "metadata": {},
   "outputs": [],
   "source": [
    "def logistic_regression(features, target, num_steps, learning_rate, add_intercept = False):\n",
    "    \n",
    "        \n",
    "    weights = np.zeros(features.shape[1])\n",
    "\n",
    "    for step in range(num_steps):\n",
    "        scores = np.dot(features, weights)\n",
    "        predictions = sigmoid(scores)\n",
    "\n",
    "        # Update weights with gradient\n",
    "        output_error_signal = target - predictions\n",
    "        gradient = np.dot(features.T, output_error_signal)\n",
    "        weights += learning_rate * gradient\n",
    "        \n",
    "        # Print log-likelihood every so often\n",
    "        if step % 1000 == 0:\n",
    "            print(log_likelihood(features, target, weights))\n",
    "        \n",
    "    return weights"
   ]
  },
  {
   "cell_type": "markdown",
   "metadata": {},
   "source": [
    "## Calculating the weights by calling the logistic regression function: arguments are df_data, df_labels, number of step the function will run, and the learning rate."
   ]
  },
  {
   "cell_type": "code",
   "execution_count": 18,
   "metadata": {
    "scrolled": true
   },
   "outputs": [
    {
     "name": "stdout",
     "output_type": "stream",
     "text": [
      "-15884.108541625961\n"
     ]
    }
   ],
   "source": [
    "weights = logistic_regression(df_data, df_labels, num_steps = 1000, learning_rate = 0.0001)"
   ]
  },
  {
   "cell_type": "markdown",
   "metadata": {},
   "source": [
    "## After training the model creating a new label dataset with the updated labels."
   ]
  },
  {
   "cell_type": "code",
   "execution_count": 19,
   "metadata": {},
   "outputs": [],
   "source": [
    "labels2 = np.dot(df_data, weights)"
   ]
  },
  {
   "cell_type": "markdown",
   "metadata": {},
   "source": [
    "## Converting the new labels into 0 & 1"
   ]
  },
  {
   "cell_type": "code",
   "execution_count": 20,
   "metadata": {},
   "outputs": [],
   "source": [
    "for i in range(len(labels2)):\n",
    "    if labels2[i] >= 0:\n",
    "        labels2[i] == 1\n",
    "    else:\n",
    "        labels2[i] = 0"
   ]
  },
  {
   "cell_type": "markdown",
   "metadata": {},
   "source": [
    "## Calculating the accuracy"
   ]
  },
  {
   "cell_type": "code",
   "execution_count": 21,
   "metadata": {},
   "outputs": [
    {
     "data": {
      "text/plain": [
       "88.35"
      ]
     },
     "execution_count": 21,
     "metadata": {},
     "output_type": "execute_result"
    }
   ],
   "source": [
    "acc = 0\n",
    "for i in range(len(df_labels)):\n",
    "    if (labels2[i] == df_labels[i]):\n",
    "        acc += 1\n",
    "(acc/10000)*100"
   ]
  },
  {
   "cell_type": "code",
   "execution_count": null,
   "metadata": {},
   "outputs": [],
   "source": []
  },
  {
   "cell_type": "markdown",
   "metadata": {},
   "source": [
    "## Plotting the learned value of 8 after training the model"
   ]
  },
  {
   "cell_type": "code",
   "execution_count": 22,
   "metadata": {},
   "outputs": [
    {
     "data": {
      "text/plain": [
       "<matplotlib.image.AxesImage at 0x7f435f25e470>"
      ]
     },
     "execution_count": 22,
     "metadata": {},
     "output_type": "execute_result"
    },
    {
     "data": {
      "image/png": "[encoded data removed]",
      "text/plain": [
       "<Figure size 432x288 with 1 Axes>"
      ]
     },
     "metadata": {},
     "output_type": "display_data"
    }
   ],
   "source": [
    "plt.imshow(np.reshape(weights, (28,28)), cmap=plt.cm.gray)"
   ]
  },
  {
   "cell_type": "markdown",
   "metadata": {},
   "source": [
    "## Introducing the lambda constant and training the model with regularizarion having some lambda constant value."
   ]
  },
  {
   "cell_type": "code",
   "execution_count": 23,
   "metadata": {},
   "outputs": [],
   "source": [
    "def logistic_regression(features, target, num_steps, learning_rate, lambda_constant, add_intercept = False):\n",
    "    \n",
    "       \n",
    "    weights = np.zeros(features.shape[1])\n",
    "    \n",
    "    for step in range(num_steps):\n",
    "        scores = np.dot(features, weights)\n",
    "        predictions = sigmoid(scores)\n",
    "\n",
    "        # Update weights with gradient\n",
    "        output_error_signal = target - predictions\n",
    "        gradient = np.dot(features.T, output_error_signal)\n",
    "        weights += learning_rate * (gradient - (lambda_constant * np.sum(weights)))\n",
    "        \n",
    "        # Print log-likelihood every so often\n",
    "        if step % 3000 == 0:\n",
    "            print(log_likelihood(features, target, weights))\n",
    "        \n",
    "    return weights"
   ]
  },
  {
   "cell_type": "code",
   "execution_count": 30,
   "metadata": {},
   "outputs": [
    {
     "name": "stdout",
     "output_type": "stream",
     "text": [
      "-15884.108541625961\n"
     ]
    }
   ],
   "source": [
    "weights = logistic_regression(df_data, df_labels, num_steps = 1000, learning_rate = 0.0001, lambda_constant = 0.1)"
   ]
  },
  {
   "cell_type": "code",
   "execution_count": 33,
   "metadata": {},
   "outputs": [
    {
     "data": {
      "text/plain": [
       "array([0., 0., 0., ..., 0., 0., 0.])"
      ]
     },
     "execution_count": 33,
     "metadata": {},
     "output_type": "execute_result"
    }
   ],
   "source": [
    "def weight_convert(df_data, weights):\n",
    "    labels2 = np.dot(df_data, weights)\n",
    "    for i in range(len(labels2)):\n",
    "        if labels2[i] >= 0:\n",
    "            labels2[i] == 1\n",
    "        else:\n",
    "            labels2[i] = 0\n",
    "    return labels2\n",
    "weight_convert(df_data, weights)"
   ]
  },
  {
   "cell_type": "code",
   "execution_count": 43,
   "metadata": {},
   "outputs": [
    {
     "data": {
      "text/plain": [
       "88.35"
      ]
     },
     "execution_count": 43,
     "metadata": {},
     "output_type": "execute_result"
    }
   ],
   "source": [
    "def accuracy(df_labels, labels2):\n",
    "    acc = 0\n",
    "    for i in range(len(df_labels)):\n",
    "        if (labels2[i] == df_labels[i]):\n",
    "            acc += 1\n",
    "    return (acc/10000)*100\n",
    "\n",
    "accuracy(df_labels, labels2)\n"
   ]
  },
  {
   "cell_type": "markdown",
   "metadata": {},
   "source": [
    "## Printing the image after training the model with updated weights & Regularization (with lambda constant value).\n",
    "<ul>\n",
    "    <li>The train image depicts the supervised learning from the model.</li>\n",
    "    <li>The image depicts almost 89% accuracy which is pretty good.</li>\n",
    "    <li>It may appear a bit shaddy but this indicates there is no underfitting while training the model. A clear printed image may be underfitted and if the image is completely unclear then it is the case of over fitting. </li>\n",
    "</ul>"
   ]
  },
  {
   "cell_type": "code",
   "execution_count": 35,
   "metadata": {},
   "outputs": [
    {
     "data": {
      "text/plain": [
       "<matplotlib.image.AxesImage at 0x7f435f1b6a20>"
      ]
     },
     "execution_count": 35,
     "metadata": {},
     "output_type": "execute_result"
    },
    {
     "data": {
      "image/png": "[encoded data removed]",
      "text/plain": [
       "<Figure size 432x288 with 1 Axes>"
      ]
     },
     "metadata": {},
     "output_type": "display_data"
    }
   ],
   "source": [
    "plt.imshow(np.reshape(weights, (28,28)), cmap=plt.cm.gray)"
   ]
  },
  {
   "cell_type": "markdown",
   "metadata": {},
   "source": [
    "## Generating a plot of training set accuracy as a function of lambda for several values of lambda."
   ]
  },
  {
   "cell_type": "code",
   "execution_count": 41,
   "metadata": {},
   "outputs": [
    {
     "name": "stdout",
     "output_type": "stream",
     "text": [
      "-3926.626084778216\n",
      "-3926.626084778216\n",
      "-3926.626084778216\n",
      "-3926.626084778216\n"
     ]
    }
   ],
   "source": [
    "lambda_constant_array = [0.1, 0.4, 0.7, 0.8]\n",
    "accuracy_list = []\n",
    "for i in range(len(lambda_constant_array)):\n",
    "    weights1 = logistic_regression(df_data, df_labels, num_steps = 1000, learning_rate = 0.00001, lambda_constant = lambda_constant_array[i])\n",
    "    lab = weight_convert(df_data, weights1)\n",
    "    accuracy_list.append(accuracy(df_labels, lab))"
   ]
  },
  {
   "cell_type": "markdown",
   "metadata": {},
   "source": [
    "## accuracu_list is a list which stores the accuracy for each lambda constant in the lambda_constant_array."
   ]
  },
  {
   "cell_type": "code",
   "execution_count": 39,
   "metadata": {},
   "outputs": [
    {
     "data": {
      "text/plain": [
       "[88.13, 88.12, 88.09, 88.09]"
      ]
     },
     "execution_count": 39,
     "metadata": {},
     "output_type": "execute_result"
    }
   ],
   "source": [
    "accuracy_list"
   ]
  },
  {
   "cell_type": "markdown",
   "metadata": {},
   "source": [
    "## Plotting training set accuracy as a function of lambda\n",
    "<b><ul>\n",
    "<li>The graph indicate that with increase in the lambda constant value the accuracy of the model decreases. </li>\n",
    "<li> With decrease in lambda constant value the accuracy of the model increases.</li>\n",
    "</ul></b>"
   ]
  },
  {
   "cell_type": "code",
   "execution_count": 40,
   "metadata": {},
   "outputs": [
    {
     "data": {
      "text/plain": [
       "Text(0,0.5,'Accuracy')"
      ]
     },
     "execution_count": 40,
     "metadata": {},
     "output_type": "execute_result"
    },
    {
     "data": {
      "image/png": "[encoded data removed]",
      "text/plain": [
       "<Figure size 432x288 with 1 Axes>"
      ]
     },
     "metadata": {},
     "output_type": "display_data"
    }
   ],
   "source": [
    "plt.plot(lambda_constant_array, accuracy_list)\n",
    "plt.xlabel('Lambda Constant')\n",
    "plt.ylabel('Accuracy')"
   ]
  },
  {
   "cell_type": "code",
   "execution_count": null,
   "metadata": {},
   "outputs": [],
   "source": []
  },
  {
   "cell_type": "code",
   "execution_count": null,
   "metadata": {},
   "outputs": [],
   "source": []
  }
 ],
 "metadata": {
  "kernelspec": {
   "display_name": "Python 3",
   "language": "python",
   "name": "python3"
  },
  "language_info": {
   "codemirror_mode": {
    "name": "ipython",
    "version": 3
   },
   "file_extension": ".py",
   "mimetype": "text/x-python",
   "name": "python",
   "nbconvert_exporter": "python",
   "pygments_lexer": "ipython3",
   "version": "3.6.5"
  }
 },
 "nbformat": 4,
 "nbformat_minor": 2
}
